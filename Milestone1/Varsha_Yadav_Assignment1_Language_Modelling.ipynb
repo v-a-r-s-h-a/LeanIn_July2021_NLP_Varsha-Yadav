{
  "nbformat": 4,
  "nbformat_minor": 0,
  "metadata": {
    "colab": {
      "name": "Varsha_Yadav_Assignment1_Language_Modelling.ipynb",
      "provenance": [],
      "collapsed_sections": []
    },
    "kernelspec": {
      "name": "python3",
      "display_name": "Python 3"
    },
    "language_info": {
      "name": "python"
    }
  },
  "cells": [
    {
      "cell_type": "markdown",
      "metadata": {
        "id": "mgvADUalup4b"
      },
      "source": [
        "# Importing all Important libraries"
      ]
    },
    {
      "cell_type": "code",
      "metadata": {
        "colab": {
          "base_uri": "https://localhost:8080/"
        },
        "id": "EgvNkOXHuttF",
        "outputId": "c2936e24-cdc2-48b5-8b70-4e66e550b1c9"
      },
      "source": [
        "import nltk\n",
        "nltk.download('punkt')"
      ],
      "execution_count": 65,
      "outputs": [
        {
          "output_type": "stream",
          "text": [
            "[nltk_data] Downloading package punkt to /root/nltk_data...\n",
            "[nltk_data]   Package punkt is already up-to-date!\n"
          ],
          "name": "stdout"
        },
        {
          "output_type": "execute_result",
          "data": {
            "text/plain": [
              "True"
            ]
          },
          "metadata": {
            "tags": []
          },
          "execution_count": 65
        }
      ]
    },
    {
      "cell_type": "code",
      "metadata": {
        "id": "BwOPS880uvqK"
      },
      "source": [
        "import nltk\n",
        "from nltk import word_tokenize\n",
        "from nltk.util import ngrams\n",
        "from collections import Counter"
      ],
      "execution_count": 66,
      "outputs": []
    },
    {
      "cell_type": "markdown",
      "metadata": {
        "id": "fZuApgy8uyZz"
      },
      "source": [
        "# Beginning with n-grams"
      ]
    },
    {
      "cell_type": "code",
      "metadata": {
        "id": "-Jqht_iMu5ZZ"
      },
      "source": [
        "text = \"Hi everyone we can start the assignment by printing basic things\\\n",
        "so that it becomes easy to understand what we actually want to achieve from this\\\n",
        "assignment. Hope you enjoy the practical session of today and if you have any\\\n",
        "doubts you can always reach out to me\"\n",
        "token = nltk.word_tokenize(text)\n",
        "bigrams = ngrams(token,2)\n",
        "trigrams = ngrams(token,3)\n",
        "fourgrams = ngrams(token,4)\n",
        "fivegrams = ngrams(token,5)"
      ],
      "execution_count": 67,
      "outputs": []
    },
    {
      "cell_type": "markdown",
      "metadata": {
        "id": "oEFPH8n4u9ti"
      },
      "source": [
        "## Bigrams"
      ]
    },
    {
      "cell_type": "code",
      "metadata": {
        "colab": {
          "base_uri": "https://localhost:8080/"
        },
        "id": "tkA6br_5vZwK",
        "outputId": "32f082e6-5f92-413a-8bde-ce7b2af48b05"
      },
      "source": [
        "print(Counter(bigrams))"
      ],
      "execution_count": 68,
      "outputs": [
        {
          "output_type": "stream",
          "text": [
            "Counter({('Hi', 'everyone'): 1, ('everyone', 'we'): 1, ('we', 'can'): 1, ('can', 'start'): 1, ('start', 'the'): 1, ('the', 'assignment'): 1, ('assignment', 'by'): 1, ('by', 'printing'): 1, ('printing', 'basic'): 1, ('basic', 'thingsso'): 1, ('thingsso', 'that'): 1, ('that', 'it'): 1, ('it', 'becomes'): 1, ('becomes', 'easy'): 1, ('easy', 'to'): 1, ('to', 'understand'): 1, ('understand', 'what'): 1, ('what', 'we'): 1, ('we', 'actually'): 1, ('actually', 'want'): 1, ('want', 'to'): 1, ('to', 'achieve'): 1, ('achieve', 'from'): 1, ('from', 'thisassignment'): 1, ('thisassignment', '.'): 1, ('.', 'Hope'): 1, ('Hope', 'you'): 1, ('you', 'enjoy'): 1, ('enjoy', 'the'): 1, ('the', 'practical'): 1, ('practical', 'session'): 1, ('session', 'of'): 1, ('of', 'today'): 1, ('today', 'and'): 1, ('and', 'if'): 1, ('if', 'you'): 1, ('you', 'have'): 1, ('have', 'anydoubts'): 1, ('anydoubts', 'you'): 1, ('you', 'can'): 1, ('can', 'always'): 1, ('always', 'reach'): 1, ('reach', 'out'): 1, ('out', 'to'): 1, ('to', 'me'): 1})\n"
          ],
          "name": "stdout"
        }
      ]
    },
    {
      "cell_type": "markdown",
      "metadata": {
        "id": "yT8iCHsru_XE"
      },
      "source": [
        "## Trigrams"
      ]
    },
    {
      "cell_type": "code",
      "metadata": {
        "colab": {
          "base_uri": "https://localhost:8080/"
        },
        "id": "CPU2hV6_vck9",
        "outputId": "47754caa-b357-4e41-c24f-8a0ea6e6ecbd"
      },
      "source": [
        "print(Counter(trigrams))"
      ],
      "execution_count": 69,
      "outputs": [
        {
          "output_type": "stream",
          "text": [
            "Counter({('Hi', 'everyone', 'we'): 1, ('everyone', 'we', 'can'): 1, ('we', 'can', 'start'): 1, ('can', 'start', 'the'): 1, ('start', 'the', 'assignment'): 1, ('the', 'assignment', 'by'): 1, ('assignment', 'by', 'printing'): 1, ('by', 'printing', 'basic'): 1, ('printing', 'basic', 'thingsso'): 1, ('basic', 'thingsso', 'that'): 1, ('thingsso', 'that', 'it'): 1, ('that', 'it', 'becomes'): 1, ('it', 'becomes', 'easy'): 1, ('becomes', 'easy', 'to'): 1, ('easy', 'to', 'understand'): 1, ('to', 'understand', 'what'): 1, ('understand', 'what', 'we'): 1, ('what', 'we', 'actually'): 1, ('we', 'actually', 'want'): 1, ('actually', 'want', 'to'): 1, ('want', 'to', 'achieve'): 1, ('to', 'achieve', 'from'): 1, ('achieve', 'from', 'thisassignment'): 1, ('from', 'thisassignment', '.'): 1, ('thisassignment', '.', 'Hope'): 1, ('.', 'Hope', 'you'): 1, ('Hope', 'you', 'enjoy'): 1, ('you', 'enjoy', 'the'): 1, ('enjoy', 'the', 'practical'): 1, ('the', 'practical', 'session'): 1, ('practical', 'session', 'of'): 1, ('session', 'of', 'today'): 1, ('of', 'today', 'and'): 1, ('today', 'and', 'if'): 1, ('and', 'if', 'you'): 1, ('if', 'you', 'have'): 1, ('you', 'have', 'anydoubts'): 1, ('have', 'anydoubts', 'you'): 1, ('anydoubts', 'you', 'can'): 1, ('you', 'can', 'always'): 1, ('can', 'always', 'reach'): 1, ('always', 'reach', 'out'): 1, ('reach', 'out', 'to'): 1, ('out', 'to', 'me'): 1})\n"
          ],
          "name": "stdout"
        }
      ]
    },
    {
      "cell_type": "markdown",
      "metadata": {
        "id": "BCHesgUKvATB"
      },
      "source": [
        "## Fourgrams"
      ]
    },
    {
      "cell_type": "code",
      "metadata": {
        "colab": {
          "base_uri": "https://localhost:8080/"
        },
        "id": "3JAKyC0LvfzX",
        "outputId": "2f877aed-9be4-4c3a-955a-930468621356"
      },
      "source": [
        "print(Counter(fourgrams))"
      ],
      "execution_count": 70,
      "outputs": [
        {
          "output_type": "stream",
          "text": [
            "Counter({('Hi', 'everyone', 'we', 'can'): 1, ('everyone', 'we', 'can', 'start'): 1, ('we', 'can', 'start', 'the'): 1, ('can', 'start', 'the', 'assignment'): 1, ('start', 'the', 'assignment', 'by'): 1, ('the', 'assignment', 'by', 'printing'): 1, ('assignment', 'by', 'printing', 'basic'): 1, ('by', 'printing', 'basic', 'thingsso'): 1, ('printing', 'basic', 'thingsso', 'that'): 1, ('basic', 'thingsso', 'that', 'it'): 1, ('thingsso', 'that', 'it', 'becomes'): 1, ('that', 'it', 'becomes', 'easy'): 1, ('it', 'becomes', 'easy', 'to'): 1, ('becomes', 'easy', 'to', 'understand'): 1, ('easy', 'to', 'understand', 'what'): 1, ('to', 'understand', 'what', 'we'): 1, ('understand', 'what', 'we', 'actually'): 1, ('what', 'we', 'actually', 'want'): 1, ('we', 'actually', 'want', 'to'): 1, ('actually', 'want', 'to', 'achieve'): 1, ('want', 'to', 'achieve', 'from'): 1, ('to', 'achieve', 'from', 'thisassignment'): 1, ('achieve', 'from', 'thisassignment', '.'): 1, ('from', 'thisassignment', '.', 'Hope'): 1, ('thisassignment', '.', 'Hope', 'you'): 1, ('.', 'Hope', 'you', 'enjoy'): 1, ('Hope', 'you', 'enjoy', 'the'): 1, ('you', 'enjoy', 'the', 'practical'): 1, ('enjoy', 'the', 'practical', 'session'): 1, ('the', 'practical', 'session', 'of'): 1, ('practical', 'session', 'of', 'today'): 1, ('session', 'of', 'today', 'and'): 1, ('of', 'today', 'and', 'if'): 1, ('today', 'and', 'if', 'you'): 1, ('and', 'if', 'you', 'have'): 1, ('if', 'you', 'have', 'anydoubts'): 1, ('you', 'have', 'anydoubts', 'you'): 1, ('have', 'anydoubts', 'you', 'can'): 1, ('anydoubts', 'you', 'can', 'always'): 1, ('you', 'can', 'always', 'reach'): 1, ('can', 'always', 'reach', 'out'): 1, ('always', 'reach', 'out', 'to'): 1, ('reach', 'out', 'to', 'me'): 1})\n"
          ],
          "name": "stdout"
        }
      ]
    },
    {
      "cell_type": "markdown",
      "metadata": {
        "id": "AdhCkr9rvBsP"
      },
      "source": [
        "## Fivegrams"
      ]
    },
    {
      "cell_type": "code",
      "metadata": {
        "colab": {
          "base_uri": "https://localhost:8080/"
        },
        "id": "9Pug8a94viSA",
        "outputId": "0e996cea-fa66-409b-f7a7-66db47ab1171"
      },
      "source": [
        "print(Counter(fivegrams))"
      ],
      "execution_count": 71,
      "outputs": [
        {
          "output_type": "stream",
          "text": [
            "Counter({('Hi', 'everyone', 'we', 'can', 'start'): 1, ('everyone', 'we', 'can', 'start', 'the'): 1, ('we', 'can', 'start', 'the', 'assignment'): 1, ('can', 'start', 'the', 'assignment', 'by'): 1, ('start', 'the', 'assignment', 'by', 'printing'): 1, ('the', 'assignment', 'by', 'printing', 'basic'): 1, ('assignment', 'by', 'printing', 'basic', 'thingsso'): 1, ('by', 'printing', 'basic', 'thingsso', 'that'): 1, ('printing', 'basic', 'thingsso', 'that', 'it'): 1, ('basic', 'thingsso', 'that', 'it', 'becomes'): 1, ('thingsso', 'that', 'it', 'becomes', 'easy'): 1, ('that', 'it', 'becomes', 'easy', 'to'): 1, ('it', 'becomes', 'easy', 'to', 'understand'): 1, ('becomes', 'easy', 'to', 'understand', 'what'): 1, ('easy', 'to', 'understand', 'what', 'we'): 1, ('to', 'understand', 'what', 'we', 'actually'): 1, ('understand', 'what', 'we', 'actually', 'want'): 1, ('what', 'we', 'actually', 'want', 'to'): 1, ('we', 'actually', 'want', 'to', 'achieve'): 1, ('actually', 'want', 'to', 'achieve', 'from'): 1, ('want', 'to', 'achieve', 'from', 'thisassignment'): 1, ('to', 'achieve', 'from', 'thisassignment', '.'): 1, ('achieve', 'from', 'thisassignment', '.', 'Hope'): 1, ('from', 'thisassignment', '.', 'Hope', 'you'): 1, ('thisassignment', '.', 'Hope', 'you', 'enjoy'): 1, ('.', 'Hope', 'you', 'enjoy', 'the'): 1, ('Hope', 'you', 'enjoy', 'the', 'practical'): 1, ('you', 'enjoy', 'the', 'practical', 'session'): 1, ('enjoy', 'the', 'practical', 'session', 'of'): 1, ('the', 'practical', 'session', 'of', 'today'): 1, ('practical', 'session', 'of', 'today', 'and'): 1, ('session', 'of', 'today', 'and', 'if'): 1, ('of', 'today', 'and', 'if', 'you'): 1, ('today', 'and', 'if', 'you', 'have'): 1, ('and', 'if', 'you', 'have', 'anydoubts'): 1, ('if', 'you', 'have', 'anydoubts', 'you'): 1, ('you', 'have', 'anydoubts', 'you', 'can'): 1, ('have', 'anydoubts', 'you', 'can', 'always'): 1, ('anydoubts', 'you', 'can', 'always', 'reach'): 1, ('you', 'can', 'always', 'reach', 'out'): 1, ('can', 'always', 'reach', 'out', 'to'): 1, ('always', 'reach', 'out', 'to', 'me'): 1})\n"
          ],
          "name": "stdout"
        }
      ]
    },
    {
      "cell_type": "markdown",
      "metadata": {
        "id": "a8p_SX2TvEUB"
      },
      "source": [
        "# Working on Real Movie Review Dataset"
      ]
    },
    {
      "cell_type": "code",
      "metadata": {
        "colab": {
          "base_uri": "https://localhost:8080/",
          "height": 202
        },
        "id": "SDkeNpgGvk0y",
        "outputId": "4d0d32db-5b6b-42a7-b42c-1bc1c6f69765"
      },
      "source": [
        "import pandas as pd\n",
        "train_data_sent = pd.read_csv('movie_review.csv')\n",
        "train_data_sent.head()"
      ],
      "execution_count": 72,
      "outputs": [
        {
          "output_type": "execute_result",
          "data": {
            "text/html": [
              "<div>\n",
              "<style scoped>\n",
              "    .dataframe tbody tr th:only-of-type {\n",
              "        vertical-align: middle;\n",
              "    }\n",
              "\n",
              "    .dataframe tbody tr th {\n",
              "        vertical-align: top;\n",
              "    }\n",
              "\n",
              "    .dataframe thead th {\n",
              "        text-align: right;\n",
              "    }\n",
              "</style>\n",
              "<table border=\"1\" class=\"dataframe\">\n",
              "  <thead>\n",
              "    <tr style=\"text-align: right;\">\n",
              "      <th></th>\n",
              "      <th>fold_id</th>\n",
              "      <th>cv_tag</th>\n",
              "      <th>html_id</th>\n",
              "      <th>sent_id</th>\n",
              "      <th>text</th>\n",
              "      <th>tag</th>\n",
              "    </tr>\n",
              "  </thead>\n",
              "  <tbody>\n",
              "    <tr>\n",
              "      <th>0</th>\n",
              "      <td>0</td>\n",
              "      <td>cv000</td>\n",
              "      <td>29590</td>\n",
              "      <td>0</td>\n",
              "      <td>films adapted from comic books have had plenty...</td>\n",
              "      <td>pos</td>\n",
              "    </tr>\n",
              "    <tr>\n",
              "      <th>1</th>\n",
              "      <td>0</td>\n",
              "      <td>cv000</td>\n",
              "      <td>29590</td>\n",
              "      <td>1</td>\n",
              "      <td>for starters , it was created by alan moore ( ...</td>\n",
              "      <td>pos</td>\n",
              "    </tr>\n",
              "    <tr>\n",
              "      <th>2</th>\n",
              "      <td>0</td>\n",
              "      <td>cv000</td>\n",
              "      <td>29590</td>\n",
              "      <td>2</td>\n",
              "      <td>to say moore and campbell thoroughly researche...</td>\n",
              "      <td>pos</td>\n",
              "    </tr>\n",
              "    <tr>\n",
              "      <th>3</th>\n",
              "      <td>0</td>\n",
              "      <td>cv000</td>\n",
              "      <td>29590</td>\n",
              "      <td>3</td>\n",
              "      <td>the book ( or \" graphic novel , \" if you will ...</td>\n",
              "      <td>pos</td>\n",
              "    </tr>\n",
              "    <tr>\n",
              "      <th>4</th>\n",
              "      <td>0</td>\n",
              "      <td>cv000</td>\n",
              "      <td>29590</td>\n",
              "      <td>4</td>\n",
              "      <td>in other words , don't dismiss this film becau...</td>\n",
              "      <td>pos</td>\n",
              "    </tr>\n",
              "  </tbody>\n",
              "</table>\n",
              "</div>"
            ],
            "text/plain": [
              "   fold_id cv_tag  ...                                               text  tag\n",
              "0        0  cv000  ...  films adapted from comic books have had plenty...  pos\n",
              "1        0  cv000  ...  for starters , it was created by alan moore ( ...  pos\n",
              "2        0  cv000  ...  to say moore and campbell thoroughly researche...  pos\n",
              "3        0  cv000  ...  the book ( or \" graphic novel , \" if you will ...  pos\n",
              "4        0  cv000  ...  in other words , don't dismiss this film becau...  pos\n",
              "\n",
              "[5 rows x 6 columns]"
            ]
          },
          "metadata": {
            "tags": []
          },
          "execution_count": 72
        }
      ]
    },
    {
      "cell_type": "code",
      "metadata": {
        "id": "2azy6FTKvk-D"
      },
      "source": [
        "import pandas as pd\n",
        "import numpy as np\n",
        "import math\n",
        "import matplotlib.pyplot as plt\n",
        "import re\n",
        "import glob\n",
        "import random\n",
        "import seaborn as sns\n",
        "import string"
      ],
      "execution_count": 73,
      "outputs": []
    },
    {
      "cell_type": "markdown",
      "metadata": {
        "id": "hk_mLvGbwmSa"
      },
      "source": [
        "## Data Processing"
      ]
    },
    {
      "cell_type": "code",
      "metadata": {
        "id": "W3Ew9Mo6wshJ"
      },
      "source": [
        "train_data_sent['sentence_clean'] = train_data_sent['text'].str.replace('[{}]'.format(string.punctuation), '')\n",
        "train_data_sent['sentence_clean'] = train_data_sent['sentence_clean'].str.lower()\n",
        "#train_data_senti=train_data_sent\n",
        "train_data_sent=train_data_sent.head(1000)"
      ],
      "execution_count": 74,
      "outputs": []
    },
    {
      "cell_type": "code",
      "metadata": {
        "colab": {
          "base_uri": "https://localhost:8080/",
          "height": 202
        },
        "id": "zsaCSjpYwsuI",
        "outputId": "61a522a1-2299-4327-813d-1a4f8e6b408e"
      },
      "source": [
        "train_data_sent.head()"
      ],
      "execution_count": 75,
      "outputs": [
        {
          "output_type": "execute_result",
          "data": {
            "text/html": [
              "<div>\n",
              "<style scoped>\n",
              "    .dataframe tbody tr th:only-of-type {\n",
              "        vertical-align: middle;\n",
              "    }\n",
              "\n",
              "    .dataframe tbody tr th {\n",
              "        vertical-align: top;\n",
              "    }\n",
              "\n",
              "    .dataframe thead th {\n",
              "        text-align: right;\n",
              "    }\n",
              "</style>\n",
              "<table border=\"1\" class=\"dataframe\">\n",
              "  <thead>\n",
              "    <tr style=\"text-align: right;\">\n",
              "      <th></th>\n",
              "      <th>fold_id</th>\n",
              "      <th>cv_tag</th>\n",
              "      <th>html_id</th>\n",
              "      <th>sent_id</th>\n",
              "      <th>text</th>\n",
              "      <th>tag</th>\n",
              "      <th>sentence_clean</th>\n",
              "    </tr>\n",
              "  </thead>\n",
              "  <tbody>\n",
              "    <tr>\n",
              "      <th>0</th>\n",
              "      <td>0</td>\n",
              "      <td>cv000</td>\n",
              "      <td>29590</td>\n",
              "      <td>0</td>\n",
              "      <td>films adapted from comic books have had plenty...</td>\n",
              "      <td>pos</td>\n",
              "      <td>films adapted from comic books have had plenty...</td>\n",
              "    </tr>\n",
              "    <tr>\n",
              "      <th>1</th>\n",
              "      <td>0</td>\n",
              "      <td>cv000</td>\n",
              "      <td>29590</td>\n",
              "      <td>1</td>\n",
              "      <td>for starters , it was created by alan moore ( ...</td>\n",
              "      <td>pos</td>\n",
              "      <td>for starters  it was created by alan moore  an...</td>\n",
              "    </tr>\n",
              "    <tr>\n",
              "      <th>2</th>\n",
              "      <td>0</td>\n",
              "      <td>cv000</td>\n",
              "      <td>29590</td>\n",
              "      <td>2</td>\n",
              "      <td>to say moore and campbell thoroughly researche...</td>\n",
              "      <td>pos</td>\n",
              "      <td>to say moore and campbell thoroughly researche...</td>\n",
              "    </tr>\n",
              "    <tr>\n",
              "      <th>3</th>\n",
              "      <td>0</td>\n",
              "      <td>cv000</td>\n",
              "      <td>29590</td>\n",
              "      <td>3</td>\n",
              "      <td>the book ( or \" graphic novel , \" if you will ...</td>\n",
              "      <td>pos</td>\n",
              "      <td>the book  or  graphic novel   if you will  is ...</td>\n",
              "    </tr>\n",
              "    <tr>\n",
              "      <th>4</th>\n",
              "      <td>0</td>\n",
              "      <td>cv000</td>\n",
              "      <td>29590</td>\n",
              "      <td>4</td>\n",
              "      <td>in other words , don't dismiss this film becau...</td>\n",
              "      <td>pos</td>\n",
              "      <td>in other words  dont dismiss this film because...</td>\n",
              "    </tr>\n",
              "  </tbody>\n",
              "</table>\n",
              "</div>"
            ],
            "text/plain": [
              "   fold_id cv_tag  ...  tag                                     sentence_clean\n",
              "0        0  cv000  ...  pos  films adapted from comic books have had plenty...\n",
              "1        0  cv000  ...  pos  for starters  it was created by alan moore  an...\n",
              "2        0  cv000  ...  pos  to say moore and campbell thoroughly researche...\n",
              "3        0  cv000  ...  pos  the book  or  graphic novel   if you will  is ...\n",
              "4        0  cv000  ...  pos  in other words  dont dismiss this film because...\n",
              "\n",
              "[5 rows x 7 columns]"
            ]
          },
          "metadata": {
            "tags": []
          },
          "execution_count": 75
        }
      ]
    },
    {
      "cell_type": "markdown",
      "metadata": {
        "id": "5QrBB-PFwnbS"
      },
      "source": [
        "# Bigram Implementation"
      ]
    },
    {
      "cell_type": "code",
      "metadata": {
        "id": "_eJj2mugw0cc"
      },
      "source": [
        "from collections import defaultdict\n",
        "from nltk import bigrams, trigrams\n",
        "from collections import Counter\n",
        "\n",
        "model_2 = defaultdict(lambda: defaultdict(lambda: 0))\n",
        "\n",
        "\n",
        "for sentence in train_data_sent['sentence_clean']:\n",
        "  #Split the sentence into bigrams inorder to count the frequencies of the bigrams\n",
        "  for w1, w2 in bigrams(sentence.split(), pad_right=True, pad_left=True):\n",
        "    model_2[(w1)][w2] += 1"
      ],
      "execution_count": 76,
      "outputs": []
    },
    {
      "cell_type": "code",
      "metadata": {
        "colab": {
          "base_uri": "https://localhost:8080/"
        },
        "id": "uMr-WiDZw1pF",
        "outputId": "efa55d9d-3f26-486c-eb5d-d77ca8ebec63"
      },
      "source": [
        "model_2['apart']"
      ],
      "execution_count": 77,
      "outputs": [
        {
          "output_type": "execute_result",
          "data": {
            "text/plain": [
              "defaultdict(<function __main__.<lambda>.<locals>.<lambda>>,\n",
              "            {'as': 1, 'in': 1, 'tommys': 1})"
            ]
          },
          "metadata": {
            "tags": []
          },
          "execution_count": 77
        }
      ]
    },
    {
      "cell_type": "code",
      "metadata": {
        "colab": {
          "base_uri": "https://localhost:8080/"
        },
        "id": "qbKd45wcw11w",
        "outputId": "c6bd7bfb-a063-41fd-f817-17c01e850a33"
      },
      "source": [
        "print(\"The Number of times *america after* bigram has existed is \",model_2['america']['after'])"
      ],
      "execution_count": 78,
      "outputs": [
        {
          "output_type": "stream",
          "text": [
            "The Number of times *america after* bigram has existed is  1\n"
          ],
          "name": "stdout"
        }
      ]
    },
    {
      "cell_type": "code",
      "metadata": {
        "id": "hKqNETbtw2BC"
      },
      "source": [
        "for w1 in model_2:\n",
        "    total_count = float(sum(model_2[w1].values()))\n",
        "    for w2 in model_2[w1]:\n",
        "        model_2[w1][w2] /= total_count"
      ],
      "execution_count": 79,
      "outputs": []
    },
    {
      "cell_type": "code",
      "metadata": {
        "colab": {
          "base_uri": "https://localhost:8080/"
        },
        "id": "zaVXG6RRw24M",
        "outputId": "e319b815-7bd6-46d0-c0f3-cf9365c7b134"
      },
      "source": [
        "model_2[('apart')]"
      ],
      "execution_count": 80,
      "outputs": [
        {
          "output_type": "execute_result",
          "data": {
            "text/plain": [
              "defaultdict(<function __main__.<lambda>.<locals>.<lambda>>,\n",
              "            {'as': 0.3333333333333333,\n",
              "             'in': 0.3333333333333333,\n",
              "             'tommys': 0.3333333333333333})"
            ]
          },
          "metadata": {
            "tags": []
          },
          "execution_count": 80
        }
      ]
    },
    {
      "cell_type": "markdown",
      "metadata": {
        "id": "C_R8bX-swn9Z"
      },
      "source": [
        "# Trigram Implementation"
      ]
    },
    {
      "cell_type": "code",
      "metadata": {
        "id": "vzH_BshYxElR"
      },
      "source": [
        "from collections import defaultdict\n",
        "from nltk import bigrams, trigrams\n",
        "from collections import Counter\n",
        "\n",
        "model_3 = defaultdict(lambda: defaultdict(lambda: 0))\n",
        "\n",
        "\n",
        "for sentence in train_data_sent['sentence_clean']:\n",
        "  #Split the sentence into trigrams inorder to count the frequencies of the trigrams\n",
        "  for w1,w2,w3 in trigrams(sentence.split(), pad_right=True, pad_left=True):\n",
        "    model_3[(w1,w2)][w3] += 1"
      ],
      "execution_count": 81,
      "outputs": []
    },
    {
      "cell_type": "code",
      "metadata": {
        "colab": {
          "base_uri": "https://localhost:8080/"
        },
        "id": "irsZRe02xEzm",
        "outputId": "07df7ae2-9db6-424b-9bad-36bcd7ca9747"
      },
      "source": [
        "model_3[('to','be')]"
      ],
      "execution_count": 82,
      "outputs": [
        {
          "output_type": "execute_result",
          "data": {
            "text/plain": [
              "defaultdict(<function __main__.<lambda>.<locals>.<lambda>>,\n",
              "            {None: 2,\n",
              "             'a': 5,\n",
              "             'able': 1,\n",
              "             'aesthetically': 1,\n",
              "             'an': 2,\n",
              "             'born': 1,\n",
              "             'briefed': 1,\n",
              "             'carried': 1,\n",
              "             'chomped': 1,\n",
              "             'criticized': 1,\n",
              "             'easier': 1,\n",
              "             'handfed': 1,\n",
              "             'having': 1,\n",
              "             'heard': 1,\n",
              "             'hippies': 1,\n",
              "             'his': 1,\n",
              "             'in': 1,\n",
              "             'inferring': 1,\n",
              "             'johns': 1,\n",
              "             'legally': 1,\n",
              "             'mistaken': 1,\n",
              "             'most': 1,\n",
              "             'overshadowed': 1,\n",
              "             'puncturing': 1,\n",
              "             'putting': 1,\n",
              "             'released': 1,\n",
              "             'shot': 1,\n",
              "             'some': 1,\n",
              "             'taken': 1,\n",
              "             'the': 2,\n",
              "             'told': 2,\n",
              "             'treated': 1,\n",
              "             'very': 1,\n",
              "             'worn': 1})"
            ]
          },
          "metadata": {
            "tags": []
          },
          "execution_count": 82
        }
      ]
    },
    {
      "cell_type": "code",
      "metadata": {
        "colab": {
          "base_uri": "https://localhost:8080/"
        },
        "id": "e2hU_IayxFAh",
        "outputId": "65414966-bf97-4b83-9e23-31a07ae5d0e8"
      },
      "source": [
        "print(\"The Number of times *to be an* trigram has existed is \",model_3[('to','be')]['an'])"
      ],
      "execution_count": 83,
      "outputs": [
        {
          "output_type": "stream",
          "text": [
            "The Number of times *to be an* trigram has existed is  2\n"
          ],
          "name": "stdout"
        }
      ]
    },
    {
      "cell_type": "code",
      "metadata": {
        "id": "syidftZ-xFMz"
      },
      "source": [
        "for w1_w2 in model_3:\n",
        "    total_count = float(sum(model_3[w1_w2].values()))\n",
        "    for w3 in model_3[w1_w2]:\n",
        "        model_2[(w1_w2)][w3] /= total_count"
      ],
      "execution_count": 84,
      "outputs": []
    },
    {
      "cell_type": "code",
      "metadata": {
        "colab": {
          "base_uri": "https://localhost:8080/"
        },
        "id": "Boa-EgF6xFXY",
        "outputId": "0e6cf3a2-15d3-450a-ba96-9e13a9131bb2"
      },
      "source": [
        "model_3[('to','be')]"
      ],
      "execution_count": 85,
      "outputs": [
        {
          "output_type": "execute_result",
          "data": {
            "text/plain": [
              "defaultdict(<function __main__.<lambda>.<locals>.<lambda>>,\n",
              "            {None: 2,\n",
              "             'a': 5,\n",
              "             'able': 1,\n",
              "             'aesthetically': 1,\n",
              "             'an': 2,\n",
              "             'born': 1,\n",
              "             'briefed': 1,\n",
              "             'carried': 1,\n",
              "             'chomped': 1,\n",
              "             'criticized': 1,\n",
              "             'easier': 1,\n",
              "             'handfed': 1,\n",
              "             'having': 1,\n",
              "             'heard': 1,\n",
              "             'hippies': 1,\n",
              "             'his': 1,\n",
              "             'in': 1,\n",
              "             'inferring': 1,\n",
              "             'johns': 1,\n",
              "             'legally': 1,\n",
              "             'mistaken': 1,\n",
              "             'most': 1,\n",
              "             'overshadowed': 1,\n",
              "             'puncturing': 1,\n",
              "             'putting': 1,\n",
              "             'released': 1,\n",
              "             'shot': 1,\n",
              "             'some': 1,\n",
              "             'taken': 1,\n",
              "             'the': 2,\n",
              "             'told': 2,\n",
              "             'treated': 1,\n",
              "             'very': 1,\n",
              "             'worn': 1})"
            ]
          },
          "metadata": {
            "tags": []
          },
          "execution_count": 85
        }
      ]
    }
  ]
}