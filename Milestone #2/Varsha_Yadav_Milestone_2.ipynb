{
  "nbformat": 4,
  "nbformat_minor": 0,
  "metadata": {
    "colab": {
      "name": "Varsha-Yadav_Milestone 2.ipynb",
      "provenance": [],
      "collapsed_sections": []
    },
    "kernelspec": {
      "name": "python3",
      "display_name": "Python 3"
    },
    "language_info": {
      "name": "python"
    }
  },
  "cells": [
    {
      "cell_type": "code",
      "metadata": {
        "colab": {
          "base_uri": "https://localhost:8080/"
        },
        "id": "BAj0V_pFXxbb",
        "outputId": "d3dd02cd-7a76-4363-f989-c2e4ba366766"
      },
      "source": [
        "import re\n",
        "import matplotlib\n",
        "import numpy as np\n",
        "import matplotlib.pyplot as plt\n",
        "import pandas as pd\n",
        "import string\n",
        "\n",
        "from nltk.corpus import stopwords\n",
        "import nltk\n",
        "import numba\n",
        "from numba import jit\n",
        "\n",
        "nltk.download('stopwords')\n",
        "nltk.download('punkt')\n",
        "nltk.download('averaged_perceptron_tagger')"
      ],
      "execution_count": 1,
      "outputs": [
        {
          "output_type": "stream",
          "text": [
            "[nltk_data] Downloading package stopwords to /root/nltk_data...\n",
            "[nltk_data]   Unzipping corpora/stopwords.zip.\n",
            "[nltk_data] Downloading package punkt to /root/nltk_data...\n",
            "[nltk_data]   Unzipping tokenizers/punkt.zip.\n",
            "[nltk_data] Downloading package averaged_perceptron_tagger to\n",
            "[nltk_data]     /root/nltk_data...\n",
            "[nltk_data]   Unzipping taggers/averaged_perceptron_tagger.zip.\n"
          ],
          "name": "stdout"
        },
        {
          "output_type": "execute_result",
          "data": {
            "text/plain": [
              "True"
            ]
          },
          "metadata": {
            "tags": []
          },
          "execution_count": 1
        }
      ]
    },
    {
      "cell_type": "code",
      "metadata": {
        "id": "t3zQupm7X8_N",
        "colab": {
          "base_uri": "https://localhost:8080/"
        },
        "outputId": "810a7868-d143-4bba-a7fe-5ba72e020590"
      },
      "source": [
        "!unzip english_dataset.zip\n",
        "!rm -rf english_dataset.zip"
      ],
      "execution_count": 2,
      "outputs": [
        {
          "output_type": "stream",
          "text": [
            "Archive:  english_dataset.zip\n",
            "   creating: english_dataset/\n",
            "  inflating: __MACOSX/._english_dataset  \n",
            "  inflating: english_dataset/english_dataset.tsv  \n",
            "  inflating: __MACOSX/english_dataset/._english_dataset.tsv  \n",
            "  inflating: english_dataset/hasoc2019_en_test-2919.tsv  \n",
            "  inflating: __MACOSX/english_dataset/._hasoc2019_en_test-2919.tsv  \n"
          ],
          "name": "stdout"
        }
      ]
    },
    {
      "cell_type": "code",
      "metadata": {
        "colab": {
          "base_uri": "https://localhost:8080/",
          "height": 363
        },
        "id": "nriIYfrlRHHT",
        "outputId": "a1d4e3a0-12f9-4b4c-c532-3661cf496932"
      },
      "source": [
        "import pandas as pd\n",
        "data_en = pd.read_csv('english_dataset/english_dataset.tsv',delimiter='\\t')\n",
        "data_en.head(10)"
      ],
      "execution_count": 3,
      "outputs": [
        {
          "output_type": "execute_result",
          "data": {
            "text/html": [
              "<div>\n",
              "<style scoped>\n",
              "    .dataframe tbody tr th:only-of-type {\n",
              "        vertical-align: middle;\n",
              "    }\n",
              "\n",
              "    .dataframe tbody tr th {\n",
              "        vertical-align: top;\n",
              "    }\n",
              "\n",
              "    .dataframe thead th {\n",
              "        text-align: right;\n",
              "    }\n",
              "</style>\n",
              "<table border=\"1\" class=\"dataframe\">\n",
              "  <thead>\n",
              "    <tr style=\"text-align: right;\">\n",
              "      <th></th>\n",
              "      <th>text_id</th>\n",
              "      <th>text</th>\n",
              "      <th>task_1</th>\n",
              "      <th>task_2</th>\n",
              "      <th>task_3</th>\n",
              "    </tr>\n",
              "  </thead>\n",
              "  <tbody>\n",
              "    <tr>\n",
              "      <th>0</th>\n",
              "      <td>hasoc_en_1</td>\n",
              "      <td>#DhoniKeepsTheGlove | WATCH: Sports Minister K...</td>\n",
              "      <td>NOT</td>\n",
              "      <td>NONE</td>\n",
              "      <td>NONE</td>\n",
              "    </tr>\n",
              "    <tr>\n",
              "      <th>1</th>\n",
              "      <td>hasoc_en_2</td>\n",
              "      <td>@politico No. We should remember very clearly ...</td>\n",
              "      <td>HOF</td>\n",
              "      <td>HATE</td>\n",
              "      <td>TIN</td>\n",
              "    </tr>\n",
              "    <tr>\n",
              "      <th>2</th>\n",
              "      <td>hasoc_en_3</td>\n",
              "      <td>@cricketworldcup Guess who would be the winner...</td>\n",
              "      <td>NOT</td>\n",
              "      <td>NONE</td>\n",
              "      <td>NONE</td>\n",
              "    </tr>\n",
              "    <tr>\n",
              "      <th>3</th>\n",
              "      <td>hasoc_en_4</td>\n",
              "      <td>Corbyn is too politically intellectual for #Bo...</td>\n",
              "      <td>NOT</td>\n",
              "      <td>NONE</td>\n",
              "      <td>NONE</td>\n",
              "    </tr>\n",
              "    <tr>\n",
              "      <th>4</th>\n",
              "      <td>hasoc_en_5</td>\n",
              "      <td>All the best to #TeamIndia for another swimmin...</td>\n",
              "      <td>NOT</td>\n",
              "      <td>NONE</td>\n",
              "      <td>NONE</td>\n",
              "    </tr>\n",
              "    <tr>\n",
              "      <th>5</th>\n",
              "      <td>hasoc_en_6</td>\n",
              "      <td>@kellymiller513 @TheRealOJ32 I hope you rememb...</td>\n",
              "      <td>NOT</td>\n",
              "      <td>NONE</td>\n",
              "      <td>NONE</td>\n",
              "    </tr>\n",
              "    <tr>\n",
              "      <th>6</th>\n",
              "      <td>hasoc_en_7</td>\n",
              "      <td>@ICC Latest design of #WC2019 trophy. #CWC2019...</td>\n",
              "      <td>NOT</td>\n",
              "      <td>NONE</td>\n",
              "      <td>NONE</td>\n",
              "    </tr>\n",
              "    <tr>\n",
              "      <th>7</th>\n",
              "      <td>hasoc_en_8</td>\n",
              "      <td>#ADOS #trendingnow #blacklivesmatter #justice ...</td>\n",
              "      <td>HOF</td>\n",
              "      <td>PRFN</td>\n",
              "      <td>TIN</td>\n",
              "    </tr>\n",
              "    <tr>\n",
              "      <th>8</th>\n",
              "      <td>hasoc_en_9</td>\n",
              "      <td>Thanks for your support! Wow 600k. Graffiti ha...</td>\n",
              "      <td>NOT</td>\n",
              "      <td>NONE</td>\n",
              "      <td>NONE</td>\n",
              "    </tr>\n",
              "    <tr>\n",
              "      <th>9</th>\n",
              "      <td>hasoc_en_10</td>\n",
              "      <td>By wearing the #BalidaanBadge over his gloves ...</td>\n",
              "      <td>NOT</td>\n",
              "      <td>NONE</td>\n",
              "      <td>NONE</td>\n",
              "    </tr>\n",
              "  </tbody>\n",
              "</table>\n",
              "</div>"
            ],
            "text/plain": [
              "       text_id                                               text  ... task_2 task_3\n",
              "0   hasoc_en_1  #DhoniKeepsTheGlove | WATCH: Sports Minister K...  ...   NONE   NONE\n",
              "1   hasoc_en_2  @politico No. We should remember very clearly ...  ...   HATE    TIN\n",
              "2   hasoc_en_3  @cricketworldcup Guess who would be the winner...  ...   NONE   NONE\n",
              "3   hasoc_en_4  Corbyn is too politically intellectual for #Bo...  ...   NONE   NONE\n",
              "4   hasoc_en_5  All the best to #TeamIndia for another swimmin...  ...   NONE   NONE\n",
              "5   hasoc_en_6  @kellymiller513 @TheRealOJ32 I hope you rememb...  ...   NONE   NONE\n",
              "6   hasoc_en_7  @ICC Latest design of #WC2019 trophy. #CWC2019...  ...   NONE   NONE\n",
              "7   hasoc_en_8  #ADOS #trendingnow #blacklivesmatter #justice ...  ...   PRFN    TIN\n",
              "8   hasoc_en_9  Thanks for your support! Wow 600k. Graffiti ha...  ...   NONE   NONE\n",
              "9  hasoc_en_10  By wearing the #BalidaanBadge over his gloves ...  ...   NONE   NONE\n",
              "\n",
              "[10 rows x 5 columns]"
            ]
          },
          "metadata": {
            "tags": []
          },
          "execution_count": 3
        }
      ]
    },
    {
      "cell_type": "markdown",
      "metadata": {
        "id": "2fk2fVtkS0AL"
      },
      "source": [
        "# Converting to Lowercase"
      ]
    },
    {
      "cell_type": "code",
      "metadata": {
        "colab": {
          "base_uri": "https://localhost:8080/"
        },
        "id": "nm9s65wGRtFD",
        "outputId": "361401fd-5eb5-4b9e-e6ce-50cb6f2bc8a1"
      },
      "source": [
        "data_lower = data_en\n",
        "data_lower[\"text\"].str.lower()"
      ],
      "execution_count": 4,
      "outputs": [
        {
          "output_type": "execute_result",
          "data": {
            "text/plain": [
              "0       #dhonikeepstheglove | watch: sports minister k...\n",
              "1       @politico no. we should remember very clearly ...\n",
              "2       @cricketworldcup guess who would be the winner...\n",
              "3       corbyn is too politically intellectual for #bo...\n",
              "4       all the best to #teamindia for another swimmin...\n",
              "                              ...                        \n",
              "5847    @davidfrum @trueblueusa1 that's cute and all, ...\n",
              "5848    a recession issa comin' #maga #magamyass #fuck...\n",
              "5849    #doctorsfightback  will 'the mad n irrational ...\n",
              "5850    #shiningindia #educatedindia or more like rund...\n",
              "5851    could this be our new prime minister?     #ric...\n",
              "Name: text, Length: 5852, dtype: object"
            ]
          },
          "metadata": {
            "tags": []
          },
          "execution_count": 4
        }
      ]
    },
    {
      "cell_type": "markdown",
      "metadata": {
        "id": "WQftaULgSrZ6"
      },
      "source": [
        "# Converting to UpperCase"
      ]
    },
    {
      "cell_type": "code",
      "metadata": {
        "colab": {
          "base_uri": "https://localhost:8080/"
        },
        "id": "l6hUwzQVR1I9",
        "outputId": "97e07df4-947a-4f94-d682-1b008d63245a"
      },
      "source": [
        "data_upper = data_en\n",
        "data_upper[\"text\"].str.upper()"
      ],
      "execution_count": 5,
      "outputs": [
        {
          "output_type": "execute_result",
          "data": {
            "text/plain": [
              "0       #DHONIKEEPSTHEGLOVE | WATCH: SPORTS MINISTER K...\n",
              "1       @POLITICO NO. WE SHOULD REMEMBER VERY CLEARLY ...\n",
              "2       @CRICKETWORLDCUP GUESS WHO WOULD BE THE WINNER...\n",
              "3       CORBYN IS TOO POLITICALLY INTELLECTUAL FOR #BO...\n",
              "4       ALL THE BEST TO #TEAMINDIA FOR ANOTHER SWIMMIN...\n",
              "                              ...                        \n",
              "5847    @DAVIDFRUM @TRUEBLUEUSA1 THAT'S CUTE AND ALL, ...\n",
              "5848    A RECESSION ISSA COMIN' #MAGA #MAGAMYASS #FUCK...\n",
              "5849    #DOCTORSFIGHTBACK  WILL 'THE MAD N IRRATIONAL ...\n",
              "5850    #SHININGINDIA #EDUCATEDINDIA OR MORE LIKE RUND...\n",
              "5851    COULD THIS BE OUR NEW PRIME MINISTER?     #RIC...\n",
              "Name: text, Length: 5852, dtype: object"
            ]
          },
          "metadata": {
            "tags": []
          },
          "execution_count": 5
        }
      ]
    },
    {
      "cell_type": "markdown",
      "metadata": {
        "id": "1de4pNCwS76M"
      },
      "source": [
        "# Removing Numbers"
      ]
    },
    {
      "cell_type": "code",
      "metadata": {
        "colab": {
          "base_uri": "https://localhost:8080/"
        },
        "id": "Ge_oh0ZpTAPh",
        "outputId": "e6035458-ca6f-4f53-b27f-5b40586ecfc2"
      },
      "source": [
        "import re\n",
        "data_n = data_en\n",
        "result = re.sub(r'\\d+', \"\", str(data_n[\"text\"]))\n",
        "print(result)"
      ],
      "execution_count": 37,
      "outputs": [
        {
          "output_type": "stream",
          "text": [
            "       #DhoniKeepsTheGlove | WATCH: Sports Minister K...\n",
            "       @politico No. We should remember very clearly ...\n",
            "       @cricketworldcup Guess who would be the winner...\n",
            "       Corbyn is too politically intellectual for #Bo...\n",
            "       All the best to #TeamIndia for another swimmin...\n",
            "                              ...                        \n",
            "    @davidfrum @trueblueusa That's cute and all, ...\n",
            "    a recession issa comin' #maga #magamyass #fuck...\n",
            "    #DoctorsFightBack  Will 'The Mad n Irrational ...\n",
            "    #ShiningIndia #educatedindia or more like RUND...\n",
            "    Could this be our new Prime Minister?     #Ric...\n",
            "Name: text, Length: , dtype: object\n"
          ],
          "name": "stdout"
        }
      ]
    },
    {
      "cell_type": "markdown",
      "metadata": {
        "id": "Q8UkyCsJTA3J"
      },
      "source": [
        "# Removing Punctuations"
      ]
    },
    {
      "cell_type": "code",
      "metadata": {
        "colab": {
          "base_uri": "https://localhost:8080/"
        },
        "id": "thUGgp36X1RV",
        "outputId": "9a84186c-6cf9-4bfa-94f3-80e03615f233"
      },
      "source": [
        "import string\n",
        "data_p = data_en\n",
        "data_p = re.sub('[%s]' % re.escape(string.punctuation), ' ', str(data_p[\"text\"]))\n",
        "print(data_p)"
      ],
      "execution_count": 39,
      "outputs": [
        {
          "output_type": "stream",
          "text": [
            "0        DhoniKeepsTheGlove   WATCH  Sports Minister K   \n",
            "1        politico No  We should remember very clearly    \n",
            "2        cricketworldcup Guess who would be the winner   \n",
            "3       Corbyn is too politically intellectual for  Bo   \n",
            "4       All the best to  TeamIndia for another swimmin   \n",
            "                                                         \n",
            "5847     davidfrum  trueblueusa1 That s cute and all     \n",
            "5848    a recession issa comin   maga  magamyass  fuck   \n",
            "5849     DoctorsFightBack  Will  The Mad n Irrational    \n",
            "5850     ShiningIndia  educatedindia or more like RUND   \n",
            "5851    Could this be our new Prime Minister       Ric   \n",
            "Name  text  Length  5852  dtype  object\n"
          ],
          "name": "stdout"
        }
      ]
    },
    {
      "cell_type": "markdown",
      "metadata": {
        "id": "NCt1rAQoTGRo"
      },
      "source": [
        "# Removing Stop words"
      ]
    },
    {
      "cell_type": "code",
      "metadata": {
        "colab": {
          "base_uri": "https://localhost:8080/"
        },
        "id": "GSWB4XypTPqq",
        "outputId": "0cca712d-656e-4c0a-db87-0f9d10989418"
      },
      "source": [
        "stop_words = stopwords.words(\"english\")\n",
        "data_sw = data_en\n",
        "# Remove stop words\n",
        "data_sw = ' '.join([word for word in str(data_sw[\"text\"]).split(' ') if word not in stop_words])\n",
        "print(data_sw)"
      ],
      "execution_count": 40,
      "outputs": [
        {
          "output_type": "stream",
          "text": [
            "0       #DhoniKeepsTheGlove | WATCH: Sports Minister K...\n",
            "1       @politico No. We remember clearly ...\n",
            "2       @cricketworldcup Guess would winner...\n",
            "3       Corbyn politically intellectual #Bo...\n",
            "4       All best #TeamIndia another swimmin...\n",
            "                              ...                        \n",
            "5847    @davidfrum @trueblueusa1 That's cute all, ...\n",
            "5848    recession issa comin' #maga #magamyass #fuck...\n",
            "5849    #DoctorsFightBack  Will 'The Mad n Irrational ...\n",
            "5850    #ShiningIndia #educatedindia like RUND...\n",
            "5851    Could new Prime Minister?     #Ric...\n",
            "Name: text, Length: 5852, dtype: object\n"
          ],
          "name": "stdout"
        }
      ]
    },
    {
      "cell_type": "markdown",
      "metadata": {
        "id": "QaN6I_-mTQMz"
      },
      "source": [
        "# Removing White Spaces"
      ]
    },
    {
      "cell_type": "code",
      "metadata": {
        "colab": {
          "base_uri": "https://localhost:8080/"
        },
        "id": "_D5Fal64TT9A",
        "outputId": "6b72afc2-804e-4d47-b5b6-54dc51660304"
      },
      "source": [
        "data_ws = data_en\n",
        "data_ws = re.sub('\\s{2,}', \" \", str(data_ws[\"text\"]))\n",
        "print(data_ws)"
      ],
      "execution_count": 41,
      "outputs": [
        {
          "output_type": "stream",
          "text": [
            "0 #DhoniKeepsTheGlove | WATCH: Sports Minister K...\n",
            "1 @politico No. We should remember very clearly ...\n",
            "2 @cricketworldcup Guess who would be the winner...\n",
            "3 Corbyn is too politically intellectual for #Bo...\n",
            "4 All the best to #TeamIndia for another swimmin... ... 5847 @davidfrum @trueblueusa1 That's cute and all, ...\n",
            "5848 a recession issa comin' #maga #magamyass #fuck...\n",
            "5849 #DoctorsFightBack Will 'The Mad n Irrational ...\n",
            "5850 #ShiningIndia #educatedindia or more like RUND...\n",
            "5851 Could this be our new Prime Minister? #Ric...\n",
            "Name: text, Length: 5852, dtype: object\n"
          ],
          "name": "stdout"
        }
      ]
    }
  ]
}